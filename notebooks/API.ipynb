{
 "cells": [
  {
   "cell_type": "code",
   "execution_count": 2,
   "metadata": {},
   "outputs": [
    {
     "name": "stdout",
     "output_type": "stream",
     "text": [
      "Collecting openrouteservice\n",
      "  Downloading openrouteservice-2.3.3-py3-none-any.whl (33 kB)\n",
      "Requirement already satisfied: requests>=2.0 in /home/jericho/miniconda3/envs/ads/lib/python3.8/site-packages (from openrouteservice) (2.28.1)\n",
      "Requirement already satisfied: urllib3<1.27,>=1.21.1 in /home/jericho/miniconda3/envs/ads/lib/python3.8/site-packages (from requests>=2.0->openrouteservice) (1.26.11)\n",
      "Requirement already satisfied: charset-normalizer<3,>=2 in /home/jericho/miniconda3/envs/ads/lib/python3.8/site-packages (from requests>=2.0->openrouteservice) (2.1.0)\n",
      "Requirement already satisfied: idna<4,>=2.5 in /home/jericho/miniconda3/envs/ads/lib/python3.8/site-packages (from requests>=2.0->openrouteservice) (3.3)\n",
      "Requirement already satisfied: certifi>=2017.4.17 in /home/jericho/miniconda3/envs/ads/lib/python3.8/site-packages (from requests>=2.0->openrouteservice) (2022.6.15)\n",
      "Installing collected packages: openrouteservice\n",
      "Successfully installed openrouteservice-2.3.3\n",
      "Note: you may need to restart the kernel to use updated packages.\n"
     ]
    }
   ],
   "source": [
    "pip install openrouteservice"
   ]
  },
  {
   "cell_type": "code",
   "execution_count": 2,
   "metadata": {},
   "outputs": [],
   "source": [
    "import openrouteservice as ors\n",
    "import folium\n",
    "\n",
    "client = ors.Client(key='5b3ce3597851110001cf624891b5abbb2a54483d8a600850ca8c548f')"
   ]
  },
  {
   "cell_type": "code",
   "execution_count": 6,
   "metadata": {},
   "outputs": [
    {
     "name": "stdout",
     "output_type": "stream",
     "text": [
      "Distances in m: [[0.0, 35397.48, 24141.58, 21744.16], [28572.15, 0.0, 6914.38, 53892.95], [22482.46, 6562.89, 0.0, 47803.27], [21658.31, 59713.5, 47202.41, 0.0]]\n"
     ]
    },
    {
     "data": {
      "text/html": [
       "<div style=\"width:100%;\"><div style=\"position:relative;width:100%;height:0;padding-bottom:60%;\"><span style=\"color:#565656\">Make this Notebook Trusted to load map: File -> Trust Notebook</span><iframe srcdoc=\"&lt;!DOCTYPE html&gt;\n",
       "&lt;head&gt;    \n",
       "    &lt;meta http-equiv=&quot;content-type&quot; content=&quot;text/html; charset=UTF-8&quot; /&gt;\n",
       "    \n",
       "        &lt;script&gt;\n",
       "            L_NO_TOUCH = false;\n",
       "            L_DISABLE_3D = false;\n",
       "        &lt;/script&gt;\n",
       "    \n",
       "    &lt;style&gt;html, body {width: 100%;height: 100%;margin: 0;padding: 0;}&lt;/style&gt;\n",
       "    &lt;style&gt;#map {position:absolute;top:0;bottom:0;right:0;left:0;}&lt;/style&gt;\n",
       "    &lt;script src=&quot;https://cdn.jsdelivr.net/npm/leaflet@1.6.0/dist/leaflet.js&quot;&gt;&lt;/script&gt;\n",
       "    &lt;script src=&quot;https://code.jquery.com/jquery-1.12.4.min.js&quot;&gt;&lt;/script&gt;\n",
       "    &lt;script src=&quot;https://maxcdn.bootstrapcdn.com/bootstrap/3.2.0/js/bootstrap.min.js&quot;&gt;&lt;/script&gt;\n",
       "    &lt;script src=&quot;https://cdnjs.cloudflare.com/ajax/libs/Leaflet.awesome-markers/2.0.2/leaflet.awesome-markers.js&quot;&gt;&lt;/script&gt;\n",
       "    &lt;link rel=&quot;stylesheet&quot; href=&quot;https://cdn.jsdelivr.net/npm/leaflet@1.6.0/dist/leaflet.css&quot;/&gt;\n",
       "    &lt;link rel=&quot;stylesheet&quot; href=&quot;https://maxcdn.bootstrapcdn.com/bootstrap/3.2.0/css/bootstrap.min.css&quot;/&gt;\n",
       "    &lt;link rel=&quot;stylesheet&quot; href=&quot;https://maxcdn.bootstrapcdn.com/bootstrap/3.2.0/css/bootstrap-theme.min.css&quot;/&gt;\n",
       "    &lt;link rel=&quot;stylesheet&quot; href=&quot;https://maxcdn.bootstrapcdn.com/font-awesome/4.6.3/css/font-awesome.min.css&quot;/&gt;\n",
       "    &lt;link rel=&quot;stylesheet&quot; href=&quot;https://cdnjs.cloudflare.com/ajax/libs/Leaflet.awesome-markers/2.0.2/leaflet.awesome-markers.css&quot;/&gt;\n",
       "    &lt;link rel=&quot;stylesheet&quot; href=&quot;https://cdn.jsdelivr.net/gh/python-visualization/folium/folium/templates/leaflet.awesome.rotate.min.css&quot;/&gt;\n",
       "    \n",
       "            &lt;meta name=&quot;viewport&quot; content=&quot;width=device-width,\n",
       "                initial-scale=1.0, maximum-scale=1.0, user-scalable=no&quot; /&gt;\n",
       "            &lt;style&gt;\n",
       "                #map_48f45ee3997c9da4f0a9c79649811df3 {\n",
       "                    position: relative;\n",
       "                    width: 100.0%;\n",
       "                    height: 100.0%;\n",
       "                    left: 0.0%;\n",
       "                    top: 0.0%;\n",
       "                }\n",
       "            &lt;/style&gt;\n",
       "        \n",
       "&lt;/head&gt;\n",
       "&lt;body&gt;    \n",
       "    \n",
       "            &lt;div class=&quot;folium-map&quot; id=&quot;map_48f45ee3997c9da4f0a9c79649811df3&quot; &gt;&lt;/div&gt;\n",
       "        \n",
       "&lt;/body&gt;\n",
       "&lt;script&gt;    \n",
       "    \n",
       "            var map_48f45ee3997c9da4f0a9c79649811df3 = L.map(\n",
       "                &quot;map_48f45ee3997c9da4f0a9c79649811df3&quot;,\n",
       "                {\n",
       "                    center: [144.961602, -37.813937],\n",
       "                    crs: L.CRS.EPSG3857,\n",
       "                    zoom: 13,\n",
       "                    zoomControl: true,\n",
       "                    preferCanvas: false,\n",
       "                }\n",
       "            );\n",
       "\n",
       "            \n",
       "\n",
       "        \n",
       "    \n",
       "            var tile_layer_1b27332efe391351ba606d07fccdee7d = L.tileLayer(\n",
       "                &quot;https://cartodb-basemaps-{s}.global.ssl.fastly.net/light_all/{z}/{x}/{y}.png&quot;,\n",
       "                {&quot;attribution&quot;: &quot;\\u0026copy; \\u003ca href=\\&quot;http://www.openstreetmap.org/copyright\\&quot;\\u003eOpenStreetMap\\u003c/a\\u003e contributors \\u0026copy; \\u003ca href=\\&quot;http://cartodb.com/attributions\\&quot;\\u003eCartoDB\\u003c/a\\u003e, CartoDB \\u003ca href =\\&quot;http://cartodb.com/attributions\\&quot;\\u003eattributions\\u003c/a\\u003e&quot;, &quot;detectRetina&quot;: false, &quot;maxNativeZoom&quot;: 18, &quot;maxZoom&quot;: 18, &quot;minZoom&quot;: 0, &quot;noWrap&quot;: false, &quot;opacity&quot;: 1, &quot;subdomains&quot;: &quot;abc&quot;, &quot;tms&quot;: false}\n",
       "            ).addTo(map_48f45ee3997c9da4f0a9c79649811df3);\n",
       "        \n",
       "    \n",
       "            var marker_81bb24650815caf350270d7b679fa80d = L.marker(\n",
       "                [-37.813937, 144.961602],\n",
       "                {}\n",
       "            ).addTo(map_48f45ee3997c9da4f0a9c79649811df3);\n",
       "        \n",
       "    \n",
       "            var marker_5f4dcdd5e222ba23bc5e28b12eb0930c = L.marker(\n",
       "                [-38.00583019841117, 145.0871014595032],\n",
       "                {}\n",
       "            ).addTo(map_48f45ee3997c9da4f0a9c79649811df3);\n",
       "        \n",
       "    \n",
       "            var marker_761b2c0e7e7d4d552dc0e7efa5322a0a = L.marker(\n",
       "                [-37.98405429150413, 145.03746986389163],\n",
       "                {}\n",
       "            ).addTo(map_48f45ee3997c9da4f0a9c79649811df3);\n",
       "        \n",
       "    \n",
       "            var marker_88d147b5a976198f587d21ee29f5f134 = L.marker(\n",
       "                [-37.75062946877243, 144.8204040527344],\n",
       "                {}\n",
       "            ).addTo(map_48f45ee3997c9da4f0a9c79649811df3);\n",
       "        \n",
       "&lt;/script&gt;\" style=\"position:absolute;width:100%;height:100%;left:0;top:0;border:none !important;\" allowfullscreen webkitallowfullscreen mozallowfullscreen></iframe></div></div>"
      ],
      "text/plain": [
       "<folium.folium.Map at 0x7fab29216fd0>"
      ]
     },
     "execution_count": 6,
     "metadata": {},
     "output_type": "execute_result"
    }
   ],
   "source": [
    "# This can calculate the property to MEL CBD 's distance\n",
    "# Start with Melbourne CBD\n",
    "m = folium.Map(location=[144.961602, -37.813937], tiles='cartodbpositron', zoom_start=13)\n",
    "\n",
    "# Some coordinates in Melbourne\n",
    "coordinates = [[144.961602, -37.813937], [145.0871014595032, -38.00583019841117], [145.03746986389163, -37.98405429150413], [144.8204040527344, -37.75062946877243]]\n",
    "\n",
    "matrix = client.distance_matrix(\n",
    "    locations=coordinates,\n",
    "    profile='driving-car',\n",
    "    metrics=['distance'],\n",
    "    validate=False,\n",
    ")\n",
    "\n",
    "for marker in coordinates:\n",
    "    folium.Marker(location=list(reversed(marker))).add_to(m)\n",
    "\n",
    "\n",
    "print(\"Distances in m: {}\".format(matrix['distances']))\n",
    "\n",
    "m"
   ]
  },
  {
   "cell_type": "code",
   "execution_count": null,
   "metadata": {},
   "outputs": [],
   "source": []
  }
 ],
 "metadata": {
  "kernelspec": {
   "display_name": "Python 3.8.13 ('ads': conda)",
   "language": "python",
   "name": "python3"
  },
  "language_info": {
   "codemirror_mode": {
    "name": "ipython",
    "version": 3
   },
   "file_extension": ".py",
   "mimetype": "text/x-python",
   "name": "python",
   "nbconvert_exporter": "python",
   "pygments_lexer": "ipython3",
   "version": "3.8.13"
  },
  "orig_nbformat": 4,
  "vscode": {
   "interpreter": {
    "hash": "a0392973ac6c44efee273fe5db2f5215dd7306ff6335536ca0ff25385c9fbe09"
   }
  }
 },
 "nbformat": 4,
 "nbformat_minor": 2
}
