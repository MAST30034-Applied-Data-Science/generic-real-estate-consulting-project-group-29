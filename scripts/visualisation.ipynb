{
 "cells": [
  {
   "cell_type": "code",
   "execution_count": 11,
   "metadata": {},
   "outputs": [
    {
     "data": {
      "text/html": [
       "<div>\n",
       "<style scoped>\n",
       "    .dataframe tbody tr th:only-of-type {\n",
       "        vertical-align: middle;\n",
       "    }\n",
       "\n",
       "    .dataframe tbody tr th {\n",
       "        vertical-align: top;\n",
       "    }\n",
       "\n",
       "    .dataframe thead th {\n",
       "        text-align: right;\n",
       "    }\n",
       "</style>\n",
       "<table border=\"1\" class=\"dataframe\">\n",
       "  <thead>\n",
       "    <tr style=\"text-align: right;\">\n",
       "      <th></th>\n",
       "      <th>property_link</th>\n",
       "      <th>suburb</th>\n",
       "      <th>address</th>\n",
       "      <th>property_type</th>\n",
       "      <th>price</th>\n",
       "      <th>closest_school</th>\n",
       "      <th>Bedrooms</th>\n",
       "      <th>Bathrooms</th>\n",
       "      <th>Garages</th>\n",
       "    </tr>\n",
       "  </thead>\n",
       "  <tbody>\n",
       "    <tr>\n",
       "      <th>0</th>\n",
       "      <td>https://www.domain.com.au/14-curringa-ct-churc...</td>\n",
       "      <td>CHURCHILL VIC 3842</td>\n",
       "      <td>14 Curringa Ct, CHURCHILL VIC 3842</td>\n",
       "      <td>0</td>\n",
       "      <td>320</td>\n",
       "      <td>1.0</td>\n",
       "      <td>3</td>\n",
       "      <td>1</td>\n",
       "      <td>0</td>\n",
       "    </tr>\n",
       "    <tr>\n",
       "      <th>1</th>\n",
       "      <td>https://www.domain.com.au/31-suzanne-street-da...</td>\n",
       "      <td>DANDENONG VIC 3175</td>\n",
       "      <td>31 Suzanne Street, DANDENONG VIC 3175</td>\n",
       "      <td>0</td>\n",
       "      <td>465</td>\n",
       "      <td>0.7</td>\n",
       "      <td>3</td>\n",
       "      <td>1</td>\n",
       "      <td>1</td>\n",
       "    </tr>\n",
       "    <tr>\n",
       "      <th>2</th>\n",
       "      <td>https://www.domain.com.au/65-bruckner-drive-po...</td>\n",
       "      <td>POINT COOK VIC 3030</td>\n",
       "      <td>65 Bruckner Drive, POINT COOK VIC 3030</td>\n",
       "      <td>0</td>\n",
       "      <td>420</td>\n",
       "      <td>1.3</td>\n",
       "      <td>4</td>\n",
       "      <td>2</td>\n",
       "      <td>2</td>\n",
       "    </tr>\n",
       "    <tr>\n",
       "      <th>3</th>\n",
       "      <td>https://www.domain.com.au/16-june-square-ringw...</td>\n",
       "      <td>RINGWOOD NORTH VIC 3134</td>\n",
       "      <td>16 June Square, RINGWOOD NORTH VIC 3134</td>\n",
       "      <td>0</td>\n",
       "      <td>620</td>\n",
       "      <td>0.5</td>\n",
       "      <td>3</td>\n",
       "      <td>2</td>\n",
       "      <td>6</td>\n",
       "    </tr>\n",
       "    <tr>\n",
       "      <th>4</th>\n",
       "      <td>https://www.domain.com.au/1-76-mckean-street-b...</td>\n",
       "      <td>BOX HILL NORTH VIC 3129</td>\n",
       "      <td>1/76 McKean Street, BOX HILL NORTH VIC 3129</td>\n",
       "      <td>0</td>\n",
       "      <td>620</td>\n",
       "      <td>0.7</td>\n",
       "      <td>4</td>\n",
       "      <td>2</td>\n",
       "      <td>1</td>\n",
       "    </tr>\n",
       "    <tr>\n",
       "      <th>...</th>\n",
       "      <td>...</td>\n",
       "      <td>...</td>\n",
       "      <td>...</td>\n",
       "      <td>...</td>\n",
       "      <td>...</td>\n",
       "      <td>...</td>\n",
       "      <td>...</td>\n",
       "      <td>...</td>\n",
       "      <td>...</td>\n",
       "    </tr>\n",
       "    <tr>\n",
       "      <th>2976</th>\n",
       "      <td>https://www.domain.com.au/2-7-finchley-av-glen...</td>\n",
       "      <td>GLENROY VIC 3046</td>\n",
       "      <td>2/7 Finchley Av, GLENROY VIC 3046</td>\n",
       "      <td>1</td>\n",
       "      <td>390</td>\n",
       "      <td>0.5</td>\n",
       "      <td>2</td>\n",
       "      <td>1</td>\n",
       "      <td>1</td>\n",
       "    </tr>\n",
       "    <tr>\n",
       "      <th>2977</th>\n",
       "      <td>https://www.domain.com.au/2b-parklands-crescen...</td>\n",
       "      <td>BRIGHTON EAST VIC 3187</td>\n",
       "      <td>2B Parklands Crescent, BRIGHTON EAST VIC 3187</td>\n",
       "      <td>1</td>\n",
       "      <td>14</td>\n",
       "      <td>0.6</td>\n",
       "      <td>4</td>\n",
       "      <td>3</td>\n",
       "      <td>2</td>\n",
       "    </tr>\n",
       "    <tr>\n",
       "      <th>2978</th>\n",
       "      <td>https://www.domain.com.au/38-luxe-terrace-poin...</td>\n",
       "      <td>POINT COOK VIC 3030</td>\n",
       "      <td>38 Luxe Terrace, POINT COOK VIC 3030</td>\n",
       "      <td>1</td>\n",
       "      <td>480</td>\n",
       "      <td>0.6</td>\n",
       "      <td>3</td>\n",
       "      <td>2</td>\n",
       "      <td>2</td>\n",
       "    </tr>\n",
       "    <tr>\n",
       "      <th>2979</th>\n",
       "      <td>https://www.domain.com.au/97a-ogilvie-street-e...</td>\n",
       "      <td>ESSENDON VIC 3040</td>\n",
       "      <td>97A Ogilvie Street, ESSENDON VIC 3040</td>\n",
       "      <td>1</td>\n",
       "      <td>980</td>\n",
       "      <td>0.4</td>\n",
       "      <td>4</td>\n",
       "      <td>2</td>\n",
       "      <td>2</td>\n",
       "    </tr>\n",
       "    <tr>\n",
       "      <th>2980</th>\n",
       "      <td>https://www.domain.com.au/32-jessie-st-richmon...</td>\n",
       "      <td>RICHMOND VIC 3121</td>\n",
       "      <td>32 Jessie St, RICHMOND VIC 3121</td>\n",
       "      <td>1</td>\n",
       "      <td>830</td>\n",
       "      <td>1.0</td>\n",
       "      <td>3</td>\n",
       "      <td>2</td>\n",
       "      <td>1</td>\n",
       "    </tr>\n",
       "  </tbody>\n",
       "</table>\n",
       "<p>2981 rows × 9 columns</p>\n",
       "</div>"
      ],
      "text/plain": [
       "                                          property_link  \\\n",
       "0     https://www.domain.com.au/14-curringa-ct-churc...   \n",
       "1     https://www.domain.com.au/31-suzanne-street-da...   \n",
       "2     https://www.domain.com.au/65-bruckner-drive-po...   \n",
       "3     https://www.domain.com.au/16-june-square-ringw...   \n",
       "4     https://www.domain.com.au/1-76-mckean-street-b...   \n",
       "...                                                 ...   \n",
       "2976  https://www.domain.com.au/2-7-finchley-av-glen...   \n",
       "2977  https://www.domain.com.au/2b-parklands-crescen...   \n",
       "2978  https://www.domain.com.au/38-luxe-terrace-poin...   \n",
       "2979  https://www.domain.com.au/97a-ogilvie-street-e...   \n",
       "2980  https://www.domain.com.au/32-jessie-st-richmon...   \n",
       "\n",
       "                       suburb                                        address  \\\n",
       "0          CHURCHILL VIC 3842             14 Curringa Ct, CHURCHILL VIC 3842   \n",
       "1          DANDENONG VIC 3175          31 Suzanne Street, DANDENONG VIC 3175   \n",
       "2         POINT COOK VIC 3030         65 Bruckner Drive, POINT COOK VIC 3030   \n",
       "3     RINGWOOD NORTH VIC 3134        16 June Square, RINGWOOD NORTH VIC 3134   \n",
       "4     BOX HILL NORTH VIC 3129    1/76 McKean Street, BOX HILL NORTH VIC 3129   \n",
       "...                       ...                                            ...   \n",
       "2976         GLENROY VIC 3046              2/7 Finchley Av, GLENROY VIC 3046   \n",
       "2977   BRIGHTON EAST VIC 3187  2B Parklands Crescent, BRIGHTON EAST VIC 3187   \n",
       "2978      POINT COOK VIC 3030           38 Luxe Terrace, POINT COOK VIC 3030   \n",
       "2979        ESSENDON VIC 3040          97A Ogilvie Street, ESSENDON VIC 3040   \n",
       "2980        RICHMOND VIC 3121                32 Jessie St, RICHMOND VIC 3121   \n",
       "\n",
       "      property_type  price  closest_school  Bedrooms  Bathrooms  Garages  \n",
       "0                 0    320             1.0         3          1        0  \n",
       "1                 0    465             0.7         3          1        1  \n",
       "2                 0    420             1.3         4          2        2  \n",
       "3                 0    620             0.5         3          2        6  \n",
       "4                 0    620             0.7         4          2        1  \n",
       "...             ...    ...             ...       ...        ...      ...  \n",
       "2976              1    390             0.5         2          1        1  \n",
       "2977              1     14             0.6         4          3        2  \n",
       "2978              1    480             0.6         3          2        2  \n",
       "2979              1    980             0.4         4          2        2  \n",
       "2980              1    830             1.0         3          2        1  \n",
       "\n",
       "[2981 rows x 9 columns]"
      ]
     },
     "execution_count": 11,
     "metadata": {},
     "output_type": "execute_result"
    }
   ],
   "source": [
    "import pandas as pd\n",
    "\n",
    "import seaborn as sns\n",
    "\n",
    "\n",
    "rental_properties_df = pd.read_csv(\"../data/curated/Extended_Rental_Property_Data.csv\")\n",
    "\n",
    "rental_properties_df\n",
    "\n",
    "# Dropping all the unnecessay attributes\n",
    "\n",
    "rental_properties_df.drop(\"Unnamed: 0\", axis=1, inplace=True)\n",
    "\n",
    "rental_properties_df\n",
    "\n"
   ]
  },
  {
   "cell_type": "code",
   "execution_count": 15,
   "metadata": {},
   "outputs": [
    {
     "data": {
      "text/plain": [
       "<AxesSubplot:xlabel='price', ylabel='Bedrooms'>"
      ]
     },
     "execution_count": 15,
     "metadata": {},
     "output_type": "execute_result"
    },
    {
     "data": {
      "image/png": "[encoded data removed]",
      "text/plain": [
       "<Figure size 432x288 with 1 Axes>"
      ]
     },
     "metadata": {
      "needs_background": "light"
     },
     "output_type": "display_data"
    }
   ],
   "source": [
    "# Using sns library to create plots to get better visual understanding of data \n",
    "\n",
    "sns.scatterplot(x=\"price\", y=\"Bedrooms\", data=rental_properties_df)"
   ]
  },
  {
   "cell_type": "code",
   "execution_count": 13,
   "metadata": {},
   "outputs": [
    {
     "data": {
      "text/html": [
       "<div>\n",
       "<style scoped>\n",
       "    .dataframe tbody tr th:only-of-type {\n",
       "        vertical-align: middle;\n",
       "    }\n",
       "\n",
       "    .dataframe tbody tr th {\n",
       "        vertical-align: top;\n",
       "    }\n",
       "\n",
       "    .dataframe thead th {\n",
       "        text-align: right;\n",
       "    }\n",
       "</style>\n",
       "<table border=\"1\" class=\"dataframe\">\n",
       "  <thead>\n",
       "    <tr style=\"text-align: right;\">\n",
       "      <th></th>\n",
       "      <th>property_type</th>\n",
       "      <th>price</th>\n",
       "      <th>closest_school</th>\n",
       "      <th>Bedrooms</th>\n",
       "      <th>Bathrooms</th>\n",
       "      <th>Garages</th>\n",
       "    </tr>\n",
       "  </thead>\n",
       "  <tbody>\n",
       "    <tr>\n",
       "      <th>property_type</th>\n",
       "      <td>1.000000</td>\n",
       "      <td>0.026269</td>\n",
       "      <td>-0.164340</td>\n",
       "      <td>-0.474302</td>\n",
       "      <td>-0.102379</td>\n",
       "      <td>-0.307564</td>\n",
       "    </tr>\n",
       "    <tr>\n",
       "      <th>price</th>\n",
       "      <td>0.026269</td>\n",
       "      <td>1.000000</td>\n",
       "      <td>-0.023580</td>\n",
       "      <td>0.270979</td>\n",
       "      <td>0.280765</td>\n",
       "      <td>0.115380</td>\n",
       "    </tr>\n",
       "    <tr>\n",
       "      <th>closest_school</th>\n",
       "      <td>-0.164340</td>\n",
       "      <td>-0.023580</td>\n",
       "      <td>1.000000</td>\n",
       "      <td>0.111043</td>\n",
       "      <td>0.090433</td>\n",
       "      <td>0.057632</td>\n",
       "    </tr>\n",
       "    <tr>\n",
       "      <th>Bedrooms</th>\n",
       "      <td>-0.474302</td>\n",
       "      <td>0.270979</td>\n",
       "      <td>0.111043</td>\n",
       "      <td>1.000000</td>\n",
       "      <td>0.614482</td>\n",
       "      <td>0.542493</td>\n",
       "    </tr>\n",
       "    <tr>\n",
       "      <th>Bathrooms</th>\n",
       "      <td>-0.102379</td>\n",
       "      <td>0.280765</td>\n",
       "      <td>0.090433</td>\n",
       "      <td>0.614482</td>\n",
       "      <td>1.000000</td>\n",
       "      <td>0.387391</td>\n",
       "    </tr>\n",
       "    <tr>\n",
       "      <th>Garages</th>\n",
       "      <td>-0.307564</td>\n",
       "      <td>0.115380</td>\n",
       "      <td>0.057632</td>\n",
       "      <td>0.542493</td>\n",
       "      <td>0.387391</td>\n",
       "      <td>1.000000</td>\n",
       "    </tr>\n",
       "  </tbody>\n",
       "</table>\n",
       "</div>"
      ],
      "text/plain": [
       "                property_type     price  closest_school  Bedrooms  Bathrooms  \\\n",
       "property_type        1.000000  0.026269       -0.164340 -0.474302  -0.102379   \n",
       "price                0.026269  1.000000       -0.023580  0.270979   0.280765   \n",
       "closest_school      -0.164340 -0.023580        1.000000  0.111043   0.090433   \n",
       "Bedrooms            -0.474302  0.270979        0.111043  1.000000   0.614482   \n",
       "Bathrooms           -0.102379  0.280765        0.090433  0.614482   1.000000   \n",
       "Garages             -0.307564  0.115380        0.057632  0.542493   0.387391   \n",
       "\n",
       "                 Garages  \n",
       "property_type  -0.307564  \n",
       "price           0.115380  \n",
       "closest_school  0.057632  \n",
       "Bedrooms        0.542493  \n",
       "Bathrooms       0.387391  \n",
       "Garages         1.000000  "
      ]
     },
     "execution_count": 13,
     "metadata": {},
     "output_type": "execute_result"
    }
   ],
   "source": [
    "cormat1 = rental_properties_df.corr()\n",
    "\n",
    "cormat1\n"
   ]
  },
  {
   "cell_type": "code",
   "execution_count": 16,
   "metadata": {},
   "outputs": [
    {
     "data": {
      "text/plain": [
       "<AxesSubplot:>"
      ]
     },
     "execution_count": 16,
     "metadata": {},
     "output_type": "execute_result"
    },
    {
     "data": {
      "image/png": "[encoded data removed]",
      "text/plain": [
       "<Figure size 432x288 with 2 Axes>"
      ]
     },
     "metadata": {
      "needs_background": "light"
     },
     "output_type": "display_data"
    }
   ],
   "source": [
    "sns.heatmap(cormat1)"
   ]
  },
  {
   "cell_type": "code",
   "execution_count": 12,
   "metadata": {},
   "outputs": [
    {
     "data": {
      "text/plain": [
       "<AxesSubplot:xlabel='Bedrooms', ylabel='price'>"
      ]
     },
     "execution_count": 12,
     "metadata": {},
     "output_type": "execute_result"
    },
    {
     "data": {
      "image/png": "[encoded data removed]",
      "text/plain": [
       "<Figure size 432x288 with 1 Axes>"
      ]
     },
     "metadata": {
      "needs_background": "light"
     },
     "output_type": "display_data"
    }
   ],
   "source": [
    "\n",
    "\n",
    "sns.boxplot(x=\"Bedrooms\", y=\"price\", data=rental_properties_df)"
   ]
  },
  {
   "cell_type": "code",
   "execution_count": 18,
   "metadata": {},
   "outputs": [
    {
     "data": {
      "text/plain": [
       "<AxesSubplot:xlabel='Bathrooms', ylabel='price'>"
      ]
     },
     "execution_count": 18,
     "metadata": {},
     "output_type": "execute_result"
    },
    {
     "data": {
      "image/png": "[encoded data removed]",
      "text/plain": [
       "<Figure size 432x288 with 1 Axes>"
      ]
     },
     "metadata": {
      "needs_background": "light"
     },
     "output_type": "display_data"
    }
   ],
   "source": [
    "sns.boxplot(x=\"Bathrooms\", y=\"price\", data=rental_properties_df)"
   ]
  },
  {
   "cell_type": "markdown",
   "metadata": {},
   "source": [
    "CHECKING SUBURBS"
   ]
  },
  {
   "cell_type": "code",
   "execution_count": 19,
   "metadata": {},
   "outputs": [
    {
     "data": {
      "text/plain": [
       "0            CHURCHILL VIC 3842\n",
       "1            DANDENONG VIC 3175\n",
       "2           POINT COOK VIC 3030\n",
       "3       RINGWOOD NORTH VIC 3134\n",
       "4       BOX HILL NORTH VIC 3129\n",
       "                 ...           \n",
       "2976           GLENROY VIC 3046\n",
       "2977     BRIGHTON EAST VIC 3187\n",
       "2978        POINT COOK VIC 3030\n",
       "2979          ESSENDON VIC 3040\n",
       "2980          RICHMOND VIC 3121\n",
       "Name: suburb, Length: 2981, dtype: object"
      ]
     },
     "execution_count": 19,
     "metadata": {},
     "output_type": "execute_result"
    }
   ],
   "source": [
    "sub  = rental_properties_df[\"suburb\"]\n",
    "\n",
    "sub"
   ]
  },
  {
   "cell_type": "code",
   "execution_count": 20,
   "metadata": {},
   "outputs": [
    {
     "data": {
      "text/html": [
       "<div>\n",
       "<style scoped>\n",
       "    .dataframe tbody tr th:only-of-type {\n",
       "        vertical-align: middle;\n",
       "    }\n",
       "\n",
       "    .dataframe tbody tr th {\n",
       "        vertical-align: top;\n",
       "    }\n",
       "\n",
       "    .dataframe thead th {\n",
       "        text-align: right;\n",
       "    }\n",
       "</style>\n",
       "<table border=\"1\" class=\"dataframe\">\n",
       "  <thead>\n",
       "    <tr style=\"text-align: right;\">\n",
       "      <th></th>\n",
       "      <th>property_link</th>\n",
       "      <th>suburb</th>\n",
       "      <th>address</th>\n",
       "      <th>property_type</th>\n",
       "      <th>price</th>\n",
       "      <th>closest_school</th>\n",
       "      <th>Bedrooms</th>\n",
       "      <th>Bathrooms</th>\n",
       "      <th>Garages</th>\n",
       "      <th>Postcode</th>\n",
       "    </tr>\n",
       "  </thead>\n",
       "  <tbody>\n",
       "    <tr>\n",
       "      <th>0</th>\n",
       "      <td>https://www.domain.com.au/14-curringa-ct-churc...</td>\n",
       "      <td>CHURCHILL VIC 3842</td>\n",
       "      <td>14 Curringa Ct, CHURCHILL VIC 3842</td>\n",
       "      <td>0</td>\n",
       "      <td>320</td>\n",
       "      <td>1.0</td>\n",
       "      <td>3</td>\n",
       "      <td>1</td>\n",
       "      <td>0</td>\n",
       "      <td>3842</td>\n",
       "    </tr>\n",
       "    <tr>\n",
       "      <th>1</th>\n",
       "      <td>https://www.domain.com.au/31-suzanne-street-da...</td>\n",
       "      <td>DANDENONG VIC 3175</td>\n",
       "      <td>31 Suzanne Street, DANDENONG VIC 3175</td>\n",
       "      <td>0</td>\n",
       "      <td>465</td>\n",
       "      <td>0.7</td>\n",
       "      <td>3</td>\n",
       "      <td>1</td>\n",
       "      <td>1</td>\n",
       "      <td>3175</td>\n",
       "    </tr>\n",
       "    <tr>\n",
       "      <th>2</th>\n",
       "      <td>https://www.domain.com.au/65-bruckner-drive-po...</td>\n",
       "      <td>POINT COOK VIC 3030</td>\n",
       "      <td>65 Bruckner Drive, POINT COOK VIC 3030</td>\n",
       "      <td>0</td>\n",
       "      <td>420</td>\n",
       "      <td>1.3</td>\n",
       "      <td>4</td>\n",
       "      <td>2</td>\n",
       "      <td>2</td>\n",
       "      <td>3030</td>\n",
       "    </tr>\n",
       "    <tr>\n",
       "      <th>3</th>\n",
       "      <td>https://www.domain.com.au/16-june-square-ringw...</td>\n",
       "      <td>RINGWOOD NORTH VIC 3134</td>\n",
       "      <td>16 June Square, RINGWOOD NORTH VIC 3134</td>\n",
       "      <td>0</td>\n",
       "      <td>620</td>\n",
       "      <td>0.5</td>\n",
       "      <td>3</td>\n",
       "      <td>2</td>\n",
       "      <td>6</td>\n",
       "      <td>3134</td>\n",
       "    </tr>\n",
       "    <tr>\n",
       "      <th>4</th>\n",
       "      <td>https://www.domain.com.au/1-76-mckean-street-b...</td>\n",
       "      <td>BOX HILL NORTH VIC 3129</td>\n",
       "      <td>1/76 McKean Street, BOX HILL NORTH VIC 3129</td>\n",
       "      <td>0</td>\n",
       "      <td>620</td>\n",
       "      <td>0.7</td>\n",
       "      <td>4</td>\n",
       "      <td>2</td>\n",
       "      <td>1</td>\n",
       "      <td>3129</td>\n",
       "    </tr>\n",
       "    <tr>\n",
       "      <th>...</th>\n",
       "      <td>...</td>\n",
       "      <td>...</td>\n",
       "      <td>...</td>\n",
       "      <td>...</td>\n",
       "      <td>...</td>\n",
       "      <td>...</td>\n",
       "      <td>...</td>\n",
       "      <td>...</td>\n",
       "      <td>...</td>\n",
       "      <td>...</td>\n",
       "    </tr>\n",
       "    <tr>\n",
       "      <th>2976</th>\n",
       "      <td>https://www.domain.com.au/2-7-finchley-av-glen...</td>\n",
       "      <td>GLENROY VIC 3046</td>\n",
       "      <td>2/7 Finchley Av, GLENROY VIC 3046</td>\n",
       "      <td>1</td>\n",
       "      <td>390</td>\n",
       "      <td>0.5</td>\n",
       "      <td>2</td>\n",
       "      <td>1</td>\n",
       "      <td>1</td>\n",
       "      <td>3046</td>\n",
       "    </tr>\n",
       "    <tr>\n",
       "      <th>2977</th>\n",
       "      <td>https://www.domain.com.au/2b-parklands-crescen...</td>\n",
       "      <td>BRIGHTON EAST VIC 3187</td>\n",
       "      <td>2B Parklands Crescent, BRIGHTON EAST VIC 3187</td>\n",
       "      <td>1</td>\n",
       "      <td>14</td>\n",
       "      <td>0.6</td>\n",
       "      <td>4</td>\n",
       "      <td>3</td>\n",
       "      <td>2</td>\n",
       "      <td>3187</td>\n",
       "    </tr>\n",
       "    <tr>\n",
       "      <th>2978</th>\n",
       "      <td>https://www.domain.com.au/38-luxe-terrace-poin...</td>\n",
       "      <td>POINT COOK VIC 3030</td>\n",
       "      <td>38 Luxe Terrace, POINT COOK VIC 3030</td>\n",
       "      <td>1</td>\n",
       "      <td>480</td>\n",
       "      <td>0.6</td>\n",
       "      <td>3</td>\n",
       "      <td>2</td>\n",
       "      <td>2</td>\n",
       "      <td>3030</td>\n",
       "    </tr>\n",
       "    <tr>\n",
       "      <th>2979</th>\n",
       "      <td>https://www.domain.com.au/97a-ogilvie-street-e...</td>\n",
       "      <td>ESSENDON VIC 3040</td>\n",
       "      <td>97A Ogilvie Street, ESSENDON VIC 3040</td>\n",
       "      <td>1</td>\n",
       "      <td>980</td>\n",
       "      <td>0.4</td>\n",
       "      <td>4</td>\n",
       "      <td>2</td>\n",
       "      <td>2</td>\n",
       "      <td>3040</td>\n",
       "    </tr>\n",
       "    <tr>\n",
       "      <th>2980</th>\n",
       "      <td>https://www.domain.com.au/32-jessie-st-richmon...</td>\n",
       "      <td>RICHMOND VIC 3121</td>\n",
       "      <td>32 Jessie St, RICHMOND VIC 3121</td>\n",
       "      <td>1</td>\n",
       "      <td>830</td>\n",
       "      <td>1.0</td>\n",
       "      <td>3</td>\n",
       "      <td>2</td>\n",
       "      <td>1</td>\n",
       "      <td>3121</td>\n",
       "    </tr>\n",
       "  </tbody>\n",
       "</table>\n",
       "<p>2981 rows × 10 columns</p>\n",
       "</div>"
      ],
      "text/plain": [
       "                                          property_link  \\\n",
       "0     https://www.domain.com.au/14-curringa-ct-churc...   \n",
       "1     https://www.domain.com.au/31-suzanne-street-da...   \n",
       "2     https://www.domain.com.au/65-bruckner-drive-po...   \n",
       "3     https://www.domain.com.au/16-june-square-ringw...   \n",
       "4     https://www.domain.com.au/1-76-mckean-street-b...   \n",
       "...                                                 ...   \n",
       "2976  https://www.domain.com.au/2-7-finchley-av-glen...   \n",
       "2977  https://www.domain.com.au/2b-parklands-crescen...   \n",
       "2978  https://www.domain.com.au/38-luxe-terrace-poin...   \n",
       "2979  https://www.domain.com.au/97a-ogilvie-street-e...   \n",
       "2980  https://www.domain.com.au/32-jessie-st-richmon...   \n",
       "\n",
       "                       suburb                                        address  \\\n",
       "0          CHURCHILL VIC 3842             14 Curringa Ct, CHURCHILL VIC 3842   \n",
       "1          DANDENONG VIC 3175          31 Suzanne Street, DANDENONG VIC 3175   \n",
       "2         POINT COOK VIC 3030         65 Bruckner Drive, POINT COOK VIC 3030   \n",
       "3     RINGWOOD NORTH VIC 3134        16 June Square, RINGWOOD NORTH VIC 3134   \n",
       "4     BOX HILL NORTH VIC 3129    1/76 McKean Street, BOX HILL NORTH VIC 3129   \n",
       "...                       ...                                            ...   \n",
       "2976         GLENROY VIC 3046              2/7 Finchley Av, GLENROY VIC 3046   \n",
       "2977   BRIGHTON EAST VIC 3187  2B Parklands Crescent, BRIGHTON EAST VIC 3187   \n",
       "2978      POINT COOK VIC 3030           38 Luxe Terrace, POINT COOK VIC 3030   \n",
       "2979        ESSENDON VIC 3040          97A Ogilvie Street, ESSENDON VIC 3040   \n",
       "2980        RICHMOND VIC 3121                32 Jessie St, RICHMOND VIC 3121   \n",
       "\n",
       "      property_type  price  closest_school  Bedrooms  Bathrooms  Garages  \\\n",
       "0                 0    320             1.0         3          1        0   \n",
       "1                 0    465             0.7         3          1        1   \n",
       "2                 0    420             1.3         4          2        2   \n",
       "3                 0    620             0.5         3          2        6   \n",
       "4                 0    620             0.7         4          2        1   \n",
       "...             ...    ...             ...       ...        ...      ...   \n",
       "2976              1    390             0.5         2          1        1   \n",
       "2977              1     14             0.6         4          3        2   \n",
       "2978              1    480             0.6         3          2        2   \n",
       "2979              1    980             0.4         4          2        2   \n",
       "2980              1    830             1.0         3          2        1   \n",
       "\n",
       "      Postcode  \n",
       "0         3842  \n",
       "1         3175  \n",
       "2         3030  \n",
       "3         3134  \n",
       "4         3129  \n",
       "...        ...  \n",
       "2976      3046  \n",
       "2977      3187  \n",
       "2978      3030  \n",
       "2979      3040  \n",
       "2980      3121  \n",
       "\n",
       "[2981 rows x 10 columns]"
      ]
     },
     "execution_count": 20,
     "metadata": {},
     "output_type": "execute_result"
    }
   ],
   "source": [
    "rental_properties_df['Postcode'] = rental_properties_df['suburb'].astype('str').str.extractall('(\\d+)').unstack().fillna('').sum(axis=1).astype(int)\n",
    "\n",
    "rental_properties_df"
   ]
  },
  {
   "cell_type": "code",
   "execution_count": 17,
   "metadata": {},
   "outputs": [
    {
     "data": {
      "text/plain": [
       "<AxesSubplot:xlabel='Bedrooms', ylabel='Postcode'>"
      ]
     },
     "execution_count": 17,
     "metadata": {},
     "output_type": "execute_result"
    },
    {
     "data": {
      "image/png": "[encoded data removed]",
      "text/plain": [
       "<Figure size 432x288 with 1 Axes>"
      ]
     },
     "metadata": {
      "needs_background": "light"
     },
     "output_type": "display_data"
    }
   ],
   "source": [
    "sns.boxplot(x=\"Bedrooms\", y=\"Postcode\", data=rental_properties_df)"
   ]
  },
  {
   "cell_type": "code",
   "execution_count": 21,
   "metadata": {},
   "outputs": [
    {
     "data": {
      "text/plain": [
       "<AxesSubplot:xlabel='Bathrooms', ylabel='Postcode'>"
      ]
     },
     "execution_count": 21,
     "metadata": {},
     "output_type": "execute_result"
    },
    {
     "data": {
      "image/png": "[encoded data removed]",
      "text/plain": [
       "<Figure size 432x288 with 1 Axes>"
      ]
     },
     "metadata": {
      "needs_background": "light"
     },
     "output_type": "display_data"
    }
   ],
   "source": [
    "sns.boxplot(x=\"Bathrooms\", y=\"Postcode\", data=rental_properties_df)"
   ]
  },
  {
   "cell_type": "code",
   "execution_count": 29,
   "metadata": {},
   "outputs": [
    {
     "data": {
      "text/plain": [
       "<AxesSubplot:xlabel='closest_school', ylabel='price'>"
      ]
     },
     "execution_count": 29,
     "metadata": {},
     "output_type": "execute_result"
    },
    {
     "data": {
      "image/png": "[encoded data removed]",
      "text/plain": [
       "<Figure size 432x288 with 1 Axes>"
      ]
     },
     "metadata": {
      "needs_background": "light"
     },
     "output_type": "display_data"
    }
   ],
   "source": [
    "new_rental = rental_properties_df.head(10)\n",
    "\n",
    "sns.boxplot(x=\"closest_school\", y=\"price\", data=new_rental)"
   ]
  }
 ],
 "metadata": {
  "kernelspec": {
   "display_name": "Python 3.8.9 64-bit",
   "language": "python",
   "name": "python3"
  },
  "language_info": {
   "codemirror_mode": {
    "name": "ipython",
    "version": 3
   },
   "file_extension": ".py",
   "mimetype": "text/x-python",
   "name": "python",
   "nbconvert_exporter": "python",
   "pygments_lexer": "ipython3",
   "version": "3.8.9"
  },
  "orig_nbformat": 4,
  "vscode": {
   "interpreter": {
    "hash": "31f2aee4e71d21fbe5cf8b01ff0e069b9275f58929596ceb00d14d90e3e16cd6"
   }
  }
 },
 "nbformat": 4,
 "nbformat_minor": 2
}
