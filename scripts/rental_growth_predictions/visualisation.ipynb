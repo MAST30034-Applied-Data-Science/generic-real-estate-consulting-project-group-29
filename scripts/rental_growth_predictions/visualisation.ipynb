{
 "cells": [
  {
   "cell_type": "code",
   "execution_count": 45,
   "metadata": {},
   "outputs": [
    {
     "data": {
      "text/html": [
       "<div>\n",
       "<style scoped>\n",
       "    .dataframe tbody tr th:only-of-type {\n",
       "        vertical-align: middle;\n",
       "    }\n",
       "\n",
       "    .dataframe tbody tr th {\n",
       "        vertical-align: top;\n",
       "    }\n",
       "\n",
       "    .dataframe thead th {\n",
       "        text-align: right;\n",
       "    }\n",
       "</style>\n",
       "<table border=\"1\" class=\"dataframe\">\n",
       "  <thead>\n",
       "    <tr style=\"text-align: right;\">\n",
       "      <th></th>\n",
       "      <th>Unnamed: 0</th>\n",
       "      <th>Suburbs</th>\n",
       "      <th>Addresses</th>\n",
       "      <th>Price per week ($)</th>\n",
       "      <th>Bedrooms</th>\n",
       "      <th>Bathrooms</th>\n",
       "      <th>Garages</th>\n",
       "      <th>Land Sizes (m^2)</th>\n",
       "      <th>Nearest Schools</th>\n",
       "    </tr>\n",
       "  </thead>\n",
       "  <tbody>\n",
       "    <tr>\n",
       "      <th>8</th>\n",
       "      <td>8</td>\n",
       "      <td>LONGWARRY VIC 3816</td>\n",
       "      <td>5 Golden Road, LONGWARRY VIC 3816</td>\n",
       "      <td>$430</td>\n",
       "      <td>3</td>\n",
       "      <td>2</td>\n",
       "      <td>2</td>\n",
       "      <td>325.0</td>\n",
       "      <td>['0.7 km away', '8.5 km away', '4.7 km away']</td>\n",
       "    </tr>\n",
       "    <tr>\n",
       "      <th>16</th>\n",
       "      <td>16</td>\n",
       "      <td>SANCTUARY LAKES VIC 3030</td>\n",
       "      <td>187 Sanctuary Lakes South Boulevard, SANCTUARY...</td>\n",
       "      <td>$600</td>\n",
       "      <td>4</td>\n",
       "      <td>2</td>\n",
       "      <td>2</td>\n",
       "      <td>530.0</td>\n",
       "      <td>['1 km away', '2.6 km away', '3.3 km away']</td>\n",
       "    </tr>\n",
       "    <tr>\n",
       "      <th>23</th>\n",
       "      <td>23</td>\n",
       "      <td>GLEN WAVERLEY VIC 3150</td>\n",
       "      <td>90 Shepherd Rd, GLEN WAVERLEY VIC 3150</td>\n",
       "      <td>$630</td>\n",
       "      <td>4</td>\n",
       "      <td>2</td>\n",
       "      <td>2</td>\n",
       "      <td>652.0</td>\n",
       "      <td>['0.9 km away', '2.3 km away', '3.8 km away']</td>\n",
       "    </tr>\n",
       "    <tr>\n",
       "      <th>24</th>\n",
       "      <td>24</td>\n",
       "      <td>CLIFTON HILL VIC 3068</td>\n",
       "      <td>15 Dally Street, CLIFTON HILL VIC 3068</td>\n",
       "      <td>$700</td>\n",
       "      <td>2</td>\n",
       "      <td>1</td>\n",
       "      <td>0</td>\n",
       "      <td>158.0</td>\n",
       "      <td>['0.7 km away', '1.4 km away', '3.3 km away']</td>\n",
       "    </tr>\n",
       "    <tr>\n",
       "      <th>25</th>\n",
       "      <td>25</td>\n",
       "      <td>CLYDE VIC 3978</td>\n",
       "      <td>20 Knightsford Avenue, CLYDE VIC 3978</td>\n",
       "      <td>$500</td>\n",
       "      <td>4</td>\n",
       "      <td>2</td>\n",
       "      <td>2</td>\n",
       "      <td>375.0</td>\n",
       "      <td>['3.8 km away', '17.5 km away', '0.9 km away']</td>\n",
       "    </tr>\n",
       "    <tr>\n",
       "      <th>...</th>\n",
       "      <td>...</td>\n",
       "      <td>...</td>\n",
       "      <td>...</td>\n",
       "      <td>...</td>\n",
       "      <td>...</td>\n",
       "      <td>...</td>\n",
       "      <td>...</td>\n",
       "      <td>...</td>\n",
       "      <td>...</td>\n",
       "    </tr>\n",
       "    <tr>\n",
       "      <th>1669</th>\n",
       "      <td>1669</td>\n",
       "      <td>MALVERN EAST VIC 3145</td>\n",
       "      <td>7/804 Warrigal Road, MALVERN EAST VIC 3145</td>\n",
       "      <td>$350</td>\n",
       "      <td>3</td>\n",
       "      <td>2</td>\n",
       "      <td>2</td>\n",
       "      <td>300.0</td>\n",
       "      <td>['0.3 km away', '3.3 km away', '4.5 km away']</td>\n",
       "    </tr>\n",
       "    <tr>\n",
       "      <th>1756</th>\n",
       "      <td>1756</td>\n",
       "      <td>RINGWOOD VIC 3134</td>\n",
       "      <td>209/21-23 Bourke Street, RINGWOOD VIC 3134</td>\n",
       "      <td>$440</td>\n",
       "      <td>2</td>\n",
       "      <td>1</td>\n",
       "      <td>2</td>\n",
       "      <td>183.0</td>\n",
       "      <td>['1.3 km away', '1.3 km away', '0.7 km away']</td>\n",
       "    </tr>\n",
       "    <tr>\n",
       "      <th>1774</th>\n",
       "      <td>1774</td>\n",
       "      <td>FOOTSCRAY VIC 3011</td>\n",
       "      <td>1202b/4 Joseph Rd, FOOTSCRAY VIC 3011</td>\n",
       "      <td>$390</td>\n",
       "      <td>2</td>\n",
       "      <td>1</td>\n",
       "      <td>2</td>\n",
       "      <td>138.0</td>\n",
       "      <td>['1.1 km away', '1.7 km away', '5.3 km away']</td>\n",
       "    </tr>\n",
       "    <tr>\n",
       "      <th>1812</th>\n",
       "      <td>1812</td>\n",
       "      <td>WEST MELBOURNE VIC 3003</td>\n",
       "      <td>108/55 Jeffcott Street, WEST MELBOURNE VIC 3003</td>\n",
       "      <td>$360</td>\n",
       "      <td>2</td>\n",
       "      <td>1</td>\n",
       "      <td>1</td>\n",
       "      <td>136.0</td>\n",
       "      <td>['1.5 km away', '1.7 km away', '0.2 km away']</td>\n",
       "    </tr>\n",
       "    <tr>\n",
       "      <th>1897</th>\n",
       "      <td>1897</td>\n",
       "      <td>RINGWOOD EAST VIC 3135</td>\n",
       "      <td>2/14 Lois Street, RINGWOOD EAST VIC 3135</td>\n",
       "      <td>$410</td>\n",
       "      <td>2</td>\n",
       "      <td>1</td>\n",
       "      <td>2</td>\n",
       "      <td>206.0</td>\n",
       "      <td>['0.5 km away', '1.3 km away', '7.6 km away']</td>\n",
       "    </tr>\n",
       "  </tbody>\n",
       "</table>\n",
       "<p>110 rows × 9 columns</p>\n",
       "</div>"
      ],
      "text/plain": [
       "      Unnamed: 0                   Suburbs  \\\n",
       "8              8        LONGWARRY VIC 3816   \n",
       "16            16  SANCTUARY LAKES VIC 3030   \n",
       "23            23    GLEN WAVERLEY VIC 3150   \n",
       "24            24     CLIFTON HILL VIC 3068   \n",
       "25            25            CLYDE VIC 3978   \n",
       "...          ...                       ...   \n",
       "1669        1669     MALVERN EAST VIC 3145   \n",
       "1756        1756         RINGWOOD VIC 3134   \n",
       "1774        1774        FOOTSCRAY VIC 3011   \n",
       "1812        1812   WEST MELBOURNE VIC 3003   \n",
       "1897        1897    RINGWOOD EAST VIC 3135   \n",
       "\n",
       "                                              Addresses Price per week ($)  \\\n",
       "8                     5 Golden Road, LONGWARRY VIC 3816               $430   \n",
       "16    187 Sanctuary Lakes South Boulevard, SANCTUARY...               $600   \n",
       "23               90 Shepherd Rd, GLEN WAVERLEY VIC 3150               $630   \n",
       "24               15 Dally Street, CLIFTON HILL VIC 3068               $700   \n",
       "25                20 Knightsford Avenue, CLYDE VIC 3978               $500   \n",
       "...                                                 ...                ...   \n",
       "1669         7/804 Warrigal Road, MALVERN EAST VIC 3145               $350   \n",
       "1756         209/21-23 Bourke Street, RINGWOOD VIC 3134               $440   \n",
       "1774              1202b/4 Joseph Rd, FOOTSCRAY VIC 3011               $390   \n",
       "1812    108/55 Jeffcott Street, WEST MELBOURNE VIC 3003               $360   \n",
       "1897           2/14 Lois Street, RINGWOOD EAST VIC 3135               $410   \n",
       "\n",
       "      Bedrooms  Bathrooms  Garages  Land Sizes (m^2)  \\\n",
       "8            3          2        2             325.0   \n",
       "16           4          2        2             530.0   \n",
       "23           4          2        2             652.0   \n",
       "24           2          1        0             158.0   \n",
       "25           4          2        2             375.0   \n",
       "...        ...        ...      ...               ...   \n",
       "1669         3          2        2             300.0   \n",
       "1756         2          1        2             183.0   \n",
       "1774         2          1        2             138.0   \n",
       "1812         2          1        1             136.0   \n",
       "1897         2          1        2             206.0   \n",
       "\n",
       "                                     Nearest Schools  \n",
       "8      ['0.7 km away', '8.5 km away', '4.7 km away']  \n",
       "16       ['1 km away', '2.6 km away', '3.3 km away']  \n",
       "23     ['0.9 km away', '2.3 km away', '3.8 km away']  \n",
       "24     ['0.7 km away', '1.4 km away', '3.3 km away']  \n",
       "25    ['3.8 km away', '17.5 km away', '0.9 km away']  \n",
       "...                                              ...  \n",
       "1669   ['0.3 km away', '3.3 km away', '4.5 km away']  \n",
       "1756   ['1.3 km away', '1.3 km away', '0.7 km away']  \n",
       "1774   ['1.1 km away', '1.7 km away', '5.3 km away']  \n",
       "1812   ['1.5 km away', '1.7 km away', '0.2 km away']  \n",
       "1897   ['0.5 km away', '1.3 km away', '7.6 km away']  \n",
       "\n",
       "[110 rows x 9 columns]"
      ]
     },
     "execution_count": 45,
     "metadata": {},
     "output_type": "execute_result"
    }
   ],
   "source": [
    "import pandas as pd\n",
    "\n",
    "data = pd.read_csv(\"/Users/aryakushwaha/Desktop/Applied Data Science/Assignment 2/generic-real-estate-consulting-project-group-29/data/curated/Rental_Property_Data.csv\")\n",
    "\n",
    "data\n",
    "\n",
    "data.dropna()"
   ]
  },
  {
   "cell_type": "code",
   "execution_count": 46,
   "metadata": {},
   "outputs": [],
   "source": [
    "price = data[\"Price per week ($)\"]\n",
    "\n"
   ]
  },
  {
   "cell_type": "code",
   "execution_count": 47,
   "metadata": {},
   "outputs": [
    {
     "ename": "AttributeError",
     "evalue": "'Series' object has no attribute 'split'",
     "output_type": "error",
     "traceback": [
      "\u001b[0;31m---------------------------------------------------------------------------\u001b[0m",
      "\u001b[0;31mAttributeError\u001b[0m                            Traceback (most recent call last)",
      "\u001b[1;32m/Users/aryakushwaha/Desktop/Applied Data Science/Assignment 2/generic-real-estate-consulting-project-group-29/scripts/visualisation.ipynb Cell 3\u001b[0m in \u001b[0;36m<cell line: 1>\u001b[0;34m()\u001b[0m\n\u001b[0;32m----> <a href='vscode-notebook-cell:/Users/aryakushwaha/Desktop/Applied%20Data%20Science/Assignment%202/generic-real-estate-consulting-project-group-29/scripts/visualisation.ipynb#ch0000009?line=0'>1</a>\u001b[0m \u001b[39mprint\u001b[39m (\u001b[39mint\u001b[39m(\u001b[39m'\u001b[39m\u001b[39m'\u001b[39m\u001b[39m.\u001b[39mjoin(\u001b[39mlist\u001b[39m(\u001b[39mfilter\u001b[39m(\u001b[39mstr\u001b[39m\u001b[39m.\u001b[39misdigit, price\u001b[39m.\u001b[39;49msplit(\u001b[39m'\u001b[39m\u001b[39m.\u001b[39m\u001b[39m'\u001b[39m)[\u001b[39m0\u001b[39m])))))\n",
      "File \u001b[0;32m~/Library/Python/3.8/lib/python/site-packages/pandas/core/generic.py:5575\u001b[0m, in \u001b[0;36mNDFrame.__getattr__\u001b[0;34m(self, name)\u001b[0m\n\u001b[1;32m   5568\u001b[0m \u001b[39mif\u001b[39;00m (\n\u001b[1;32m   5569\u001b[0m     name \u001b[39mnot\u001b[39;00m \u001b[39min\u001b[39;00m \u001b[39mself\u001b[39m\u001b[39m.\u001b[39m_internal_names_set\n\u001b[1;32m   5570\u001b[0m     \u001b[39mand\u001b[39;00m name \u001b[39mnot\u001b[39;00m \u001b[39min\u001b[39;00m \u001b[39mself\u001b[39m\u001b[39m.\u001b[39m_metadata\n\u001b[1;32m   5571\u001b[0m     \u001b[39mand\u001b[39;00m name \u001b[39mnot\u001b[39;00m \u001b[39min\u001b[39;00m \u001b[39mself\u001b[39m\u001b[39m.\u001b[39m_accessors\n\u001b[1;32m   5572\u001b[0m     \u001b[39mand\u001b[39;00m \u001b[39mself\u001b[39m\u001b[39m.\u001b[39m_info_axis\u001b[39m.\u001b[39m_can_hold_identifiers_and_holds_name(name)\n\u001b[1;32m   5573\u001b[0m ):\n\u001b[1;32m   5574\u001b[0m     \u001b[39mreturn\u001b[39;00m \u001b[39mself\u001b[39m[name]\n\u001b[0;32m-> 5575\u001b[0m \u001b[39mreturn\u001b[39;00m \u001b[39mobject\u001b[39;49m\u001b[39m.\u001b[39;49m\u001b[39m__getattribute__\u001b[39;49m(\u001b[39mself\u001b[39;49m, name)\n",
      "\u001b[0;31mAttributeError\u001b[0m: 'Series' object has no attribute 'split'"
     ]
    }
   ],
   "source": [
    "print (int(''.join(list(filter(str.isdigit, price.split('.')[0])))))"
   ]
  },
  {
   "cell_type": "code",
   "execution_count": 38,
   "metadata": {},
   "outputs": [
    {
     "ename": "ValueError",
     "evalue": "Could not interpret value `room type` for parameter `x`",
     "output_type": "error",
     "traceback": [
      "\u001b[0;31m---------------------------------------------------------------------------\u001b[0m",
      "\u001b[0;31mValueError\u001b[0m                                Traceback (most recent call last)",
      "\u001b[1;32m/Users/aryakushwaha/Desktop/Applied Data Science/Assignment 2/generic-real-estate-consulting-project-group-29/scripts/visualisation.ipynb Cell 2\u001b[0m in \u001b[0;36m<cell line: 3>\u001b[0;34m()\u001b[0m\n\u001b[1;32m      <a href='vscode-notebook-cell:/Users/aryakushwaha/Desktop/Applied%20Data%20Science/Assignment%202/generic-real-estate-consulting-project-group-29/scripts/visualisation.ipynb#ch0000001?line=0'>1</a>\u001b[0m \u001b[39mimport\u001b[39;00m \u001b[39mseaborn\u001b[39;00m \u001b[39mas\u001b[39;00m \u001b[39msns\u001b[39;00m\n\u001b[0;32m----> <a href='vscode-notebook-cell:/Users/aryakushwaha/Desktop/Applied%20Data%20Science/Assignment%202/generic-real-estate-consulting-project-group-29/scripts/visualisation.ipynb#ch0000001?line=2'>3</a>\u001b[0m sns\u001b[39m.\u001b[39;49mscatterplot(x\u001b[39m=\u001b[39;49m\u001b[39m\"\u001b[39;49m\u001b[39mroom type\u001b[39;49m\u001b[39m\"\u001b[39;49m, y\u001b[39m=\u001b[39;49m\u001b[39m\"\u001b[39;49m\u001b[39mbedroom\u001b[39;49m\u001b[39m\"\u001b[39;49m, data\u001b[39m=\u001b[39;49mdata)\n",
      "File \u001b[0;32m~/Library/Python/3.8/lib/python/site-packages/seaborn/_decorators.py:46\u001b[0m, in \u001b[0;36m_deprecate_positional_args.<locals>.inner_f\u001b[0;34m(*args, **kwargs)\u001b[0m\n\u001b[1;32m     36\u001b[0m     warnings\u001b[39m.\u001b[39mwarn(\n\u001b[1;32m     37\u001b[0m         \u001b[39m\"\u001b[39m\u001b[39mPass the following variable\u001b[39m\u001b[39m{}\u001b[39;00m\u001b[39m as \u001b[39m\u001b[39m{}\u001b[39;00m\u001b[39mkeyword arg\u001b[39m\u001b[39m{}\u001b[39;00m\u001b[39m: \u001b[39m\u001b[39m{}\u001b[39;00m\u001b[39m. \u001b[39m\u001b[39m\"\u001b[39m\n\u001b[1;32m     38\u001b[0m         \u001b[39m\"\u001b[39m\u001b[39mFrom version 0.12, the only valid positional argument \u001b[39m\u001b[39m\"\u001b[39m\n\u001b[0;32m   (...)\u001b[0m\n\u001b[1;32m     43\u001b[0m         \u001b[39mFutureWarning\u001b[39;00m\n\u001b[1;32m     44\u001b[0m     )\n\u001b[1;32m     45\u001b[0m kwargs\u001b[39m.\u001b[39mupdate({k: arg \u001b[39mfor\u001b[39;00m k, arg \u001b[39min\u001b[39;00m \u001b[39mzip\u001b[39m(sig\u001b[39m.\u001b[39mparameters, args)})\n\u001b[0;32m---> 46\u001b[0m \u001b[39mreturn\u001b[39;00m f(\u001b[39m*\u001b[39;49m\u001b[39m*\u001b[39;49mkwargs)\n",
      "File \u001b[0;32m~/Library/Python/3.8/lib/python/site-packages/seaborn/relational.py:808\u001b[0m, in \u001b[0;36mscatterplot\u001b[0;34m(x, y, hue, style, size, data, palette, hue_order, hue_norm, sizes, size_order, size_norm, markers, style_order, x_bins, y_bins, units, estimator, ci, n_boot, alpha, x_jitter, y_jitter, legend, ax, **kwargs)\u001b[0m\n\u001b[1;32m    793\u001b[0m \u001b[39m@_deprecate_positional_args\u001b[39m\n\u001b[1;32m    794\u001b[0m \u001b[39mdef\u001b[39;00m \u001b[39mscatterplot\u001b[39m(\n\u001b[1;32m    795\u001b[0m     \u001b[39m*\u001b[39m,\n\u001b[0;32m   (...)\u001b[0m\n\u001b[1;32m    804\u001b[0m     legend\u001b[39m=\u001b[39m\u001b[39m\"\u001b[39m\u001b[39mauto\u001b[39m\u001b[39m\"\u001b[39m, ax\u001b[39m=\u001b[39m\u001b[39mNone\u001b[39;00m, \u001b[39m*\u001b[39m\u001b[39m*\u001b[39mkwargs\n\u001b[1;32m    805\u001b[0m ):\n\u001b[1;32m    807\u001b[0m     variables \u001b[39m=\u001b[39m _ScatterPlotter\u001b[39m.\u001b[39mget_semantics(\u001b[39mlocals\u001b[39m())\n\u001b[0;32m--> 808\u001b[0m     p \u001b[39m=\u001b[39m _ScatterPlotter(\n\u001b[1;32m    809\u001b[0m         data\u001b[39m=\u001b[39;49mdata, variables\u001b[39m=\u001b[39;49mvariables,\n\u001b[1;32m    810\u001b[0m         x_bins\u001b[39m=\u001b[39;49mx_bins, y_bins\u001b[39m=\u001b[39;49my_bins,\n\u001b[1;32m    811\u001b[0m         estimator\u001b[39m=\u001b[39;49mestimator, ci\u001b[39m=\u001b[39;49mci, n_boot\u001b[39m=\u001b[39;49mn_boot,\n\u001b[1;32m    812\u001b[0m         alpha\u001b[39m=\u001b[39;49malpha, x_jitter\u001b[39m=\u001b[39;49mx_jitter, y_jitter\u001b[39m=\u001b[39;49my_jitter, legend\u001b[39m=\u001b[39;49mlegend,\n\u001b[1;32m    813\u001b[0m     )\n\u001b[1;32m    815\u001b[0m     p\u001b[39m.\u001b[39mmap_hue(palette\u001b[39m=\u001b[39mpalette, order\u001b[39m=\u001b[39mhue_order, norm\u001b[39m=\u001b[39mhue_norm)\n\u001b[1;32m    816\u001b[0m     p\u001b[39m.\u001b[39mmap_size(sizes\u001b[39m=\u001b[39msizes, order\u001b[39m=\u001b[39msize_order, norm\u001b[39m=\u001b[39msize_norm)\n",
      "File \u001b[0;32m~/Library/Python/3.8/lib/python/site-packages/seaborn/relational.py:587\u001b[0m, in \u001b[0;36m_ScatterPlotter.__init__\u001b[0;34m(self, data, variables, x_bins, y_bins, estimator, ci, n_boot, alpha, x_jitter, y_jitter, legend)\u001b[0m\n\u001b[1;32m    571\u001b[0m \u001b[39mdef\u001b[39;00m \u001b[39m__init__\u001b[39m(\n\u001b[1;32m    572\u001b[0m     \u001b[39mself\u001b[39m, \u001b[39m*\u001b[39m,\n\u001b[1;32m    573\u001b[0m     data\u001b[39m=\u001b[39m\u001b[39mNone\u001b[39;00m, variables\u001b[39m=\u001b[39m{},\n\u001b[0;32m   (...)\u001b[0m\n\u001b[1;32m    581\u001b[0m     \u001b[39m# the kind of plot to draw, but for the time being we need to set\u001b[39;00m\n\u001b[1;32m    582\u001b[0m     \u001b[39m# this information so the SizeMapping can use it\u001b[39;00m\n\u001b[1;32m    583\u001b[0m     \u001b[39mself\u001b[39m\u001b[39m.\u001b[39m_default_size_range \u001b[39m=\u001b[39m (\n\u001b[1;32m    584\u001b[0m         np\u001b[39m.\u001b[39mr_[\u001b[39m.5\u001b[39m, \u001b[39m2\u001b[39m] \u001b[39m*\u001b[39m np\u001b[39m.\u001b[39msquare(mpl\u001b[39m.\u001b[39mrcParams[\u001b[39m\"\u001b[39m\u001b[39mlines.markersize\u001b[39m\u001b[39m\"\u001b[39m])\n\u001b[1;32m    585\u001b[0m     )\n\u001b[0;32m--> 587\u001b[0m     \u001b[39msuper\u001b[39;49m()\u001b[39m.\u001b[39;49m\u001b[39m__init__\u001b[39;49m(data\u001b[39m=\u001b[39;49mdata, variables\u001b[39m=\u001b[39;49mvariables)\n\u001b[1;32m    589\u001b[0m     \u001b[39mself\u001b[39m\u001b[39m.\u001b[39malpha \u001b[39m=\u001b[39m alpha\n\u001b[1;32m    590\u001b[0m     \u001b[39mself\u001b[39m\u001b[39m.\u001b[39mlegend \u001b[39m=\u001b[39m legend\n",
      "File \u001b[0;32m~/Library/Python/3.8/lib/python/site-packages/seaborn/_core.py:605\u001b[0m, in \u001b[0;36mVectorPlotter.__init__\u001b[0;34m(self, data, variables)\u001b[0m\n\u001b[1;32m    603\u001b[0m \u001b[39mdef\u001b[39;00m \u001b[39m__init__\u001b[39m(\u001b[39mself\u001b[39m, data\u001b[39m=\u001b[39m\u001b[39mNone\u001b[39;00m, variables\u001b[39m=\u001b[39m{}):\n\u001b[0;32m--> 605\u001b[0m     \u001b[39mself\u001b[39;49m\u001b[39m.\u001b[39;49massign_variables(data, variables)\n\u001b[1;32m    607\u001b[0m     \u001b[39mfor\u001b[39;00m var, \u001b[39mcls\u001b[39m \u001b[39min\u001b[39;00m \u001b[39mself\u001b[39m\u001b[39m.\u001b[39m_semantic_mappings\u001b[39m.\u001b[39mitems():\n\u001b[1;32m    608\u001b[0m \n\u001b[1;32m    609\u001b[0m         \u001b[39m# Create the mapping function\u001b[39;00m\n\u001b[1;32m    610\u001b[0m         map_func \u001b[39m=\u001b[39m partial(\u001b[39mcls\u001b[39m\u001b[39m.\u001b[39mmap, plotter\u001b[39m=\u001b[39m\u001b[39mself\u001b[39m)\n",
      "File \u001b[0;32m~/Library/Python/3.8/lib/python/site-packages/seaborn/_core.py:668\u001b[0m, in \u001b[0;36mVectorPlotter.assign_variables\u001b[0;34m(self, data, variables)\u001b[0m\n\u001b[1;32m    666\u001b[0m \u001b[39melse\u001b[39;00m:\n\u001b[1;32m    667\u001b[0m     \u001b[39mself\u001b[39m\u001b[39m.\u001b[39minput_format \u001b[39m=\u001b[39m \u001b[39m\"\u001b[39m\u001b[39mlong\u001b[39m\u001b[39m\"\u001b[39m\n\u001b[0;32m--> 668\u001b[0m     plot_data, variables \u001b[39m=\u001b[39m \u001b[39mself\u001b[39;49m\u001b[39m.\u001b[39;49m_assign_variables_longform(\n\u001b[1;32m    669\u001b[0m         data, \u001b[39m*\u001b[39;49m\u001b[39m*\u001b[39;49mvariables,\n\u001b[1;32m    670\u001b[0m     )\n\u001b[1;32m    672\u001b[0m \u001b[39mself\u001b[39m\u001b[39m.\u001b[39mplot_data \u001b[39m=\u001b[39m plot_data\n\u001b[1;32m    673\u001b[0m \u001b[39mself\u001b[39m\u001b[39m.\u001b[39mvariables \u001b[39m=\u001b[39m variables\n",
      "File \u001b[0;32m~/Library/Python/3.8/lib/python/site-packages/seaborn/_core.py:903\u001b[0m, in \u001b[0;36mVectorPlotter._assign_variables_longform\u001b[0;34m(self, data, **kwargs)\u001b[0m\n\u001b[1;32m    898\u001b[0m \u001b[39melif\u001b[39;00m \u001b[39misinstance\u001b[39m(val, (\u001b[39mstr\u001b[39m, \u001b[39mbytes\u001b[39m)):\n\u001b[1;32m    899\u001b[0m \n\u001b[1;32m    900\u001b[0m     \u001b[39m# This looks like a column name but we don't know what it means!\u001b[39;00m\n\u001b[1;32m    902\u001b[0m     err \u001b[39m=\u001b[39m \u001b[39mf\u001b[39m\u001b[39m\"\u001b[39m\u001b[39mCould not interpret value `\u001b[39m\u001b[39m{\u001b[39;00mval\u001b[39m}\u001b[39;00m\u001b[39m` for parameter `\u001b[39m\u001b[39m{\u001b[39;00mkey\u001b[39m}\u001b[39;00m\u001b[39m`\u001b[39m\u001b[39m\"\u001b[39m\n\u001b[0;32m--> 903\u001b[0m     \u001b[39mraise\u001b[39;00m \u001b[39mValueError\u001b[39;00m(err)\n\u001b[1;32m    905\u001b[0m \u001b[39melse\u001b[39;00m:\n\u001b[1;32m    906\u001b[0m \n\u001b[1;32m    907\u001b[0m     \u001b[39m# Otherwise, assume the value is itself data\u001b[39;00m\n\u001b[1;32m    908\u001b[0m \n\u001b[1;32m    909\u001b[0m     \u001b[39m# Raise when data object is present and a vector can't matched\u001b[39;00m\n\u001b[1;32m    910\u001b[0m     \u001b[39mif\u001b[39;00m \u001b[39misinstance\u001b[39m(data, pd\u001b[39m.\u001b[39mDataFrame) \u001b[39mand\u001b[39;00m \u001b[39mnot\u001b[39;00m \u001b[39misinstance\u001b[39m(val, pd\u001b[39m.\u001b[39mSeries):\n",
      "\u001b[0;31mValueError\u001b[0m: Could not interpret value `room type` for parameter `x`"
     ]
    }
   ],
   "source": [
    "import seaborn as sns\n",
    "\n",
    "sns.scatterplot(x=\"room type\", y=\"bedroom\", data=data)"
   ]
  },
  {
   "cell_type": "code",
   "execution_count": 32,
   "metadata": {},
   "outputs": [
    {
     "data": {
      "text/html": [
       "<div>\n",
       "<style scoped>\n",
       "    .dataframe tbody tr th:only-of-type {\n",
       "        vertical-align: middle;\n",
       "    }\n",
       "\n",
       "    .dataframe tbody tr th {\n",
       "        vertical-align: top;\n",
       "    }\n",
       "\n",
       "    .dataframe thead th {\n",
       "        text-align: right;\n",
       "    }\n",
       "</style>\n",
       "<table border=\"1\" class=\"dataframe\">\n",
       "  <thead>\n",
       "    <tr style=\"text-align: right;\">\n",
       "      <th></th>\n",
       "      <th>price per week</th>\n",
       "      <th>bedroom</th>\n",
       "      <th>bathroom</th>\n",
       "      <th>parking</th>\n",
       "      <th>distance 1</th>\n",
       "      <th>distance 2</th>\n",
       "      <th>distance 3</th>\n",
       "      <th>distance 4</th>\n",
       "      <th>distance 5</th>\n",
       "    </tr>\n",
       "  </thead>\n",
       "  <tbody>\n",
       "    <tr>\n",
       "      <th>price per week</th>\n",
       "      <td>1.000000</td>\n",
       "      <td>0.290350</td>\n",
       "      <td>0.463012</td>\n",
       "      <td>0.237479</td>\n",
       "      <td>-0.107343</td>\n",
       "      <td>-0.093314</td>\n",
       "      <td>-0.091179</td>\n",
       "      <td>-0.106320</td>\n",
       "      <td>-0.118025</td>\n",
       "    </tr>\n",
       "    <tr>\n",
       "      <th>bedroom</th>\n",
       "      <td>0.290350</td>\n",
       "      <td>1.000000</td>\n",
       "      <td>0.546897</td>\n",
       "      <td>0.486430</td>\n",
       "      <td>0.201647</td>\n",
       "      <td>0.235123</td>\n",
       "      <td>0.241778</td>\n",
       "      <td>0.313443</td>\n",
       "      <td>0.317859</td>\n",
       "    </tr>\n",
       "    <tr>\n",
       "      <th>bathroom</th>\n",
       "      <td>0.463012</td>\n",
       "      <td>0.546897</td>\n",
       "      <td>1.000000</td>\n",
       "      <td>0.351346</td>\n",
       "      <td>0.129932</td>\n",
       "      <td>0.128512</td>\n",
       "      <td>0.086578</td>\n",
       "      <td>0.094458</td>\n",
       "      <td>0.103850</td>\n",
       "    </tr>\n",
       "    <tr>\n",
       "      <th>parking</th>\n",
       "      <td>0.237479</td>\n",
       "      <td>0.486430</td>\n",
       "      <td>0.351346</td>\n",
       "      <td>1.000000</td>\n",
       "      <td>0.127660</td>\n",
       "      <td>0.095906</td>\n",
       "      <td>0.083919</td>\n",
       "      <td>0.118338</td>\n",
       "      <td>0.108050</td>\n",
       "    </tr>\n",
       "    <tr>\n",
       "      <th>distance 1</th>\n",
       "      <td>-0.107343</td>\n",
       "      <td>0.201647</td>\n",
       "      <td>0.129932</td>\n",
       "      <td>0.127660</td>\n",
       "      <td>1.000000</td>\n",
       "      <td>0.801176</td>\n",
       "      <td>0.720039</td>\n",
       "      <td>0.613741</td>\n",
       "      <td>0.584126</td>\n",
       "    </tr>\n",
       "    <tr>\n",
       "      <th>distance 2</th>\n",
       "      <td>-0.093314</td>\n",
       "      <td>0.235123</td>\n",
       "      <td>0.128512</td>\n",
       "      <td>0.095906</td>\n",
       "      <td>0.801176</td>\n",
       "      <td>1.000000</td>\n",
       "      <td>0.910064</td>\n",
       "      <td>0.801964</td>\n",
       "      <td>0.796808</td>\n",
       "    </tr>\n",
       "    <tr>\n",
       "      <th>distance 3</th>\n",
       "      <td>-0.091179</td>\n",
       "      <td>0.241778</td>\n",
       "      <td>0.086578</td>\n",
       "      <td>0.083919</td>\n",
       "      <td>0.720039</td>\n",
       "      <td>0.910064</td>\n",
       "      <td>1.000000</td>\n",
       "      <td>0.872881</td>\n",
       "      <td>0.860940</td>\n",
       "    </tr>\n",
       "    <tr>\n",
       "      <th>distance 4</th>\n",
       "      <td>-0.106320</td>\n",
       "      <td>0.313443</td>\n",
       "      <td>0.094458</td>\n",
       "      <td>0.118338</td>\n",
       "      <td>0.613741</td>\n",
       "      <td>0.801964</td>\n",
       "      <td>0.872881</td>\n",
       "      <td>1.000000</td>\n",
       "      <td>0.980993</td>\n",
       "    </tr>\n",
       "    <tr>\n",
       "      <th>distance 5</th>\n",
       "      <td>-0.118025</td>\n",
       "      <td>0.317859</td>\n",
       "      <td>0.103850</td>\n",
       "      <td>0.108050</td>\n",
       "      <td>0.584126</td>\n",
       "      <td>0.796808</td>\n",
       "      <td>0.860940</td>\n",
       "      <td>0.980993</td>\n",
       "      <td>1.000000</td>\n",
       "    </tr>\n",
       "  </tbody>\n",
       "</table>\n",
       "</div>"
      ],
      "text/plain": [
       "                price per week   bedroom  bathroom   parking  distance 1  \\\n",
       "price per week        1.000000  0.290350  0.463012  0.237479   -0.107343   \n",
       "bedroom               0.290350  1.000000  0.546897  0.486430    0.201647   \n",
       "bathroom              0.463012  0.546897  1.000000  0.351346    0.129932   \n",
       "parking               0.237479  0.486430  0.351346  1.000000    0.127660   \n",
       "distance 1           -0.107343  0.201647  0.129932  0.127660    1.000000   \n",
       "distance 2           -0.093314  0.235123  0.128512  0.095906    0.801176   \n",
       "distance 3           -0.091179  0.241778  0.086578  0.083919    0.720039   \n",
       "distance 4           -0.106320  0.313443  0.094458  0.118338    0.613741   \n",
       "distance 5           -0.118025  0.317859  0.103850  0.108050    0.584126   \n",
       "\n",
       "                distance 2  distance 3  distance 4  distance 5  \n",
       "price per week   -0.093314   -0.091179   -0.106320   -0.118025  \n",
       "bedroom           0.235123    0.241778    0.313443    0.317859  \n",
       "bathroom          0.128512    0.086578    0.094458    0.103850  \n",
       "parking           0.095906    0.083919    0.118338    0.108050  \n",
       "distance 1        0.801176    0.720039    0.613741    0.584126  \n",
       "distance 2        1.000000    0.910064    0.801964    0.796808  \n",
       "distance 3        0.910064    1.000000    0.872881    0.860940  \n",
       "distance 4        0.801964    0.872881    1.000000    0.980993  \n",
       "distance 5        0.796808    0.860940    0.980993    1.000000  "
      ]
     },
     "execution_count": 32,
     "metadata": {},
     "output_type": "execute_result"
    }
   ],
   "source": [
    "cormat1 = data.corr()\n",
    "\n",
    "cormat1\n"
   ]
  },
  {
   "cell_type": "code",
   "execution_count": 33,
   "metadata": {},
   "outputs": [
    {
     "data": {
      "text/plain": [
       "<AxesSubplot:>"
      ]
     },
     "execution_count": 33,
     "metadata": {},
     "output_type": "execute_result"
    },
    {
     "data": {
      "image/png": "[encoded data removed]",
      "text/plain": [
       "<Figure size 432x288 with 2 Axes>"
      ]
     },
     "metadata": {
      "needs_background": "light"
     },
     "output_type": "display_data"
    }
   ],
   "source": [
    "sns.heatmap(cormat1)"
   ]
  },
  {
   "cell_type": "code",
   "execution_count": 34,
   "metadata": {},
   "outputs": [],
   "source": [
    "data2 = pd.read_csv('/Users/aryakushwaha/Desktop/Applied Data Science/Assignment 2/generic-real-estate-consulting-project-group-29/data/curated/Rental_Property_Data.csv', index_col='Suburbs')\n",
    "\n",
    "suburbs = data2.columns.str.strip('Suburbs')\n"
   ]
  },
  {
   "cell_type": "code",
   "execution_count": 35,
   "metadata": {},
   "outputs": [
    {
     "ename": "AttributeError",
     "evalue": "'DataFrame' object has no attribute 'Suburbs'",
     "output_type": "error",
     "traceback": [
      "\u001b[0;31m---------------------------------------------------------------------------\u001b[0m",
      "\u001b[0;31mAttributeError\u001b[0m                            Traceback (most recent call last)",
      "\u001b[1;32m/Users/aryakushwaha/Desktop/Applied Data Science/Assignment 2/generic-real-estate-consulting-project-group-29/scripts/visualisation.ipynb Cell 6\u001b[0m in \u001b[0;36m<cell line: 1>\u001b[0;34m()\u001b[0m\n\u001b[0;32m----> <a href='vscode-notebook-cell:/Users/aryakushwaha/Desktop/Applied%20Data%20Science/Assignment%202/generic-real-estate-consulting-project-group-29/scripts/visualisation.ipynb#ch0000005?line=0'>1</a>\u001b[0m data\u001b[39m.\u001b[39;49mSuburbs\u001b[39m.\u001b[39mnunique()\n",
      "File \u001b[0;32m~/Library/Python/3.8/lib/python/site-packages/pandas/core/generic.py:5575\u001b[0m, in \u001b[0;36mNDFrame.__getattr__\u001b[0;34m(self, name)\u001b[0m\n\u001b[1;32m   5568\u001b[0m \u001b[39mif\u001b[39;00m (\n\u001b[1;32m   5569\u001b[0m     name \u001b[39mnot\u001b[39;00m \u001b[39min\u001b[39;00m \u001b[39mself\u001b[39m\u001b[39m.\u001b[39m_internal_names_set\n\u001b[1;32m   5570\u001b[0m     \u001b[39mand\u001b[39;00m name \u001b[39mnot\u001b[39;00m \u001b[39min\u001b[39;00m \u001b[39mself\u001b[39m\u001b[39m.\u001b[39m_metadata\n\u001b[1;32m   5571\u001b[0m     \u001b[39mand\u001b[39;00m name \u001b[39mnot\u001b[39;00m \u001b[39min\u001b[39;00m \u001b[39mself\u001b[39m\u001b[39m.\u001b[39m_accessors\n\u001b[1;32m   5572\u001b[0m     \u001b[39mand\u001b[39;00m \u001b[39mself\u001b[39m\u001b[39m.\u001b[39m_info_axis\u001b[39m.\u001b[39m_can_hold_identifiers_and_holds_name(name)\n\u001b[1;32m   5573\u001b[0m ):\n\u001b[1;32m   5574\u001b[0m     \u001b[39mreturn\u001b[39;00m \u001b[39mself\u001b[39m[name]\n\u001b[0;32m-> 5575\u001b[0m \u001b[39mreturn\u001b[39;00m \u001b[39mobject\u001b[39;49m\u001b[39m.\u001b[39;49m\u001b[39m__getattribute__\u001b[39;49m(\u001b[39mself\u001b[39;49m, name)\n",
      "\u001b[0;31mAttributeError\u001b[0m: 'DataFrame' object has no attribute 'Suburbs'"
     ]
    }
   ],
   "source": [
    "data..nunique()"
   ]
  },
  {
   "cell_type": "code",
   "execution_count": 25,
   "metadata": {},
   "outputs": [],
   "source": [
    "data3 = data.head(100)\n",
    "\n"
   ]
  },
  {
   "cell_type": "code",
   "execution_count": 26,
   "metadata": {},
   "outputs": [
    {
     "data": {
      "text/plain": [
       "82"
      ]
     },
     "execution_count": 26,
     "metadata": {},
     "output_type": "execute_result"
    }
   ],
   "source": [
    "data3.Suburbs.nunique()"
   ]
  },
  {
   "cell_type": "code",
   "execution_count": 28,
   "metadata": {},
   "outputs": [
    {
     "data": {
      "text/plain": [
       "<AxesSubplot:xlabel='Bedrooms', ylabel='Price per week ($)'>"
      ]
     },
     "execution_count": 28,
     "metadata": {},
     "output_type": "execute_result"
    },
    {
     "data": {
      "image/png": "[encoded data removed]",
      "text/plain": [
       "<Figure size 432x288 with 1 Axes>"
      ]
     },
     "metadata": {
      "needs_background": "light"
     },
     "output_type": "display_data"
    }
   ],
   "source": [
    "import seaborn as sns\n",
    "\n",
    "sns.boxplot(x=\"Bedrooms\", y=\"Price per week ($)\", data=data3)"
   ]
  }
 ],
 "metadata": {
  "kernelspec": {
   "display_name": "Python 3.8.9 64-bit",
   "language": "python",
   "name": "python3"
  },
  "language_info": {
   "codemirror_mode": {
    "name": "ipython",
    "version": 3
   },
   "file_extension": ".py",
   "mimetype": "text/x-python",
   "name": "python",
   "nbconvert_exporter": "python",
   "pygments_lexer": "ipython3",
   "version": "3.8.9"
  },
  "orig_nbformat": 4,
  "vscode": {
   "interpreter": {
    "hash": "31f2aee4e71d21fbe5cf8b01ff0e069b9275f58929596ceb00d14d90e3e16cd6"
   }
  }
 },
 "nbformat": 4,
 "nbformat_minor": 2
}
